{
 "cells": [
  {
   "cell_type": "code",
   "execution_count": 1,
   "id": "254773f1",
   "metadata": {},
   "outputs": [],
   "source": [
    "import pickle\n",
    "import pandas as pd\n",
    "import numpy as np\n",
    "import pickle\n",
    "# data_root_dir : /ts/projects/mimic4_cxr/tabular/preprocess/processed_data/mimic4/"
   ]
  },
  {
   "cell_type": "code",
   "execution_count": 5,
   "id": "8014df28",
   "metadata": {},
   "outputs": [],
   "source": [
    "task = 'mortality'\n",
    "target_days = 90\n",
    "\n",
    "# cp -r /ts/projects/mimic4_cxr/tabular/preprocess/processed_data/mimic4/ /home/data/2025_MIMICIV_processed/\n",
    "hosp_adm_dict = pickle.load(open(f\"/home/data/2025_MIMICIV_processed/mimic4/hosp_adm_dict_{target_days}days.pkl\", \"rb\"))\n",
    "\n",
    "# train ids path : /home/data/2025_MIMICIV_processed/mimic4/task:mortality_30days/train_admission_ids.txt\n",
    "train_ids = pd.read_csv(f\"/home/data/2025_MIMICIV_processed/mimic4/task:{task}_{target_days}days/train_admission_ids.txt\", header=None)[0].values\n",
    "val_ids = pd.read_csv(f\"/home/data/2025_MIMICIV_processed/mimic4/task:{task}_{target_days}days/val_admission_ids.txt\", header=None)[0].values\n",
    "test_ids = pd.read_csv(f\"/home/data/2025_MIMICIV_processed/mimic4/task:{task}_{target_days}days/test_admission_ids.txt\", header=None)[0].values"
   ]
  },
  {
   "cell_type": "code",
   "execution_count": 6,
   "id": "b48a994a",
   "metadata": {},
   "outputs": [
    {
     "name": "stdout",
     "output_type": "stream",
     "text": [
      "Original Train : 109321, Val : 15617, Test : 31235\n",
      "Tabular Train : 109321, Val : 15617, Test : 31235\n",
      "Note Train : 71113, Val : 10050, Test : 20215\n"
     ]
    }
   ],
   "source": [
    "train_tabular_ids, train_note_ids = [], []\n",
    "val_tabular_ids, val_note_ids = [], []\n",
    "test_tabular_ids, test_note_ids = [], []\n",
    "\n",
    "for key, items in hosp_adm_dict.items() : \n",
    "    # items : HOSP_ADM ID-22595853 (1132.0 min): mortality-False, readmission-False\n",
    "    mortality = items.mortality\n",
    "    key = int(key)\n",
    "    # skip if mortality is None\n",
    "    if mortality is None :\n",
    "        continue\n",
    "    \n",
    "    # Use all data for tabular\n",
    "    # skip if discharge note is None\n",
    "    if items.discharge is None :\n",
    "        train_tabular_ids.append(key) if key in train_ids else \\\n",
    "        val_tabular_ids.append(key) if key in val_ids else \\\n",
    "        test_tabular_ids.append(key) if key in test_ids else None\n",
    "        continue\n",
    "    \n",
    "    train_note_ids.append(key) if key in train_ids else \\\n",
    "    val_note_ids.append(key) if key in val_ids else \\\n",
    "    test_note_ids.append(key) if key in test_ids else None\n",
    "    \n",
    "    train_tabular_ids.append(key) if key in train_ids else \\\n",
    "    val_tabular_ids.append(key) if key in val_ids else \\\n",
    "    test_tabular_ids.append(key) if key in test_ids else None\n",
    "\n",
    "print(f\"Original Train : {len(train_ids)}, Val : {len(val_ids)}, Test : {len(test_ids)}\")\n",
    "print(f\"Tabular Train : {len(train_tabular_ids)}, Val : {len(val_tabular_ids)}, Test : {len(test_tabular_ids)}\")\n",
    "print(f\"Note Train : {len(train_note_ids)}, Val : {len(val_note_ids)}, Test : {len(test_note_ids)}\")\n",
    "\n",
    "\n",
    "# Original Train : 126178, Val : 18026, Test : 36051\n",
    "# Tabular Train : 126178, Val : 18026, Test : 36051\n",
    "# Note Train : 81656, Val : 11762, Test : 23414"
   ]
  },
  {
   "cell_type": "code",
   "execution_count": 7,
   "id": "aa1165dc",
   "metadata": {},
   "outputs": [],
   "source": [
    "tabular = {\n",
    "    'train' : train_tabular_ids,\n",
    "    'val' : val_tabular_ids,\n",
    "    'test' : test_tabular_ids\n",
    "}\n",
    "note = {\n",
    "    'train' : train_note_ids,\n",
    "    'val' : val_note_ids,\n",
    "    'test' : test_note_ids\n",
    "}\n",
    "\n",
    "\n",
    "with open(f\"/home/data/2025_MIMICIV_processed/mimic4/task:{task}_{target_days}days/SSL_tabular_ids.pkl\", \"wb\") as f :\n",
    "    pickle.dump(tabular, f)\n",
    "with open(f\"/home/data/2025_MIMICIV_processed/mimic4/task:{task}_{target_days}days/SSL_note_ids.pkl\", \"wb\") as f :\n",
    "    pickle.dump(note, f)"
   ]
  },
  {
   "cell_type": "code",
   "execution_count": null,
   "id": "bb657bb7",
   "metadata": {},
   "outputs": [],
   "source": []
  }
 ],
 "metadata": {
  "kernelspec": {
   "display_name": "mimic_venv (3.9.15)",
   "language": "python",
   "name": "python3"
  },
  "language_info": {
   "codemirror_mode": {
    "name": "ipython",
    "version": 3
   },
   "file_extension": ".py",
   "mimetype": "text/x-python",
   "name": "python",
   "nbconvert_exporter": "python",
   "pygments_lexer": "ipython3",
   "version": "3.9.15"
  }
 },
 "nbformat": 4,
 "nbformat_minor": 5
}
