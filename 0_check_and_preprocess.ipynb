{
 "cells": [
  {
   "cell_type": "code",
   "execution_count": 72,
   "id": "c756e181",
   "metadata": {},
   "outputs": [],
   "source": [
    "from pathlib import Path\n",
    "import pandas as pd\n",
    "import pickle\n",
    "import torch\n",
    "import torch.backends.cudnn as cudnn\n",
    "import numpy as np\n",
    "import random"
   ]
  },
  {
   "cell_type": "code",
   "execution_count": 73,
   "id": "99f77e04",
   "metadata": {},
   "outputs": [],
   "source": [
    "def read_txt(filename):\n",
    "    data = []\n",
    "    with open(filename, \"r\") as file:\n",
    "        lines = file.read().splitlines()\n",
    "        for line in lines:\n",
    "            data.append(line)\n",
    "    return data"
   ]
  },
  {
   "cell_type": "code",
   "execution_count": null,
   "id": "5f19a693",
   "metadata": {},
   "outputs": [],
   "source": [
    "\n",
    "# /home/data/2025_MIMICIV_processed/mimic4/task:mortality_90days/train_admission_ids_seed_2026.txt\n",
    "# /home/data/2025_MIMICIV_processed/mimic4/task:readmission_15days\n",
    "task='readmission_15days' # mortality_90days, readmission_15days\n",
    "all_hosp_adm_dict_path = Path(f\"/home/data/2025_MIMICIV_processed/mimic4/hosp_adm_dict_{task.split('_')[1]}.pkl\")\n",
    "all_hosp_adm_dict = pickle.load(open(all_hosp_adm_dict_path, \"rb\"))\n",
    "all_hosp_adm_dict = {k:v for k,v in all_hosp_adm_dict.items() if getattr(v, task.split('_')[0]) is not None}\n"
   ]
  },
  {
   "cell_type": "code",
   "execution_count": 39,
   "id": "04ee2608",
   "metadata": {},
   "outputs": [
    {
     "name": "stdout",
     "output_type": "stream",
     "text": [
      "Train: 161062, Val: 23009, Test: 46018\n",
      "161062\n",
      "23009\n",
      "46018\n"
     ]
    }
   ],
   "source": [
    "seed = 2028\n",
    "train_ids = np.array(read_txt(Path(\"/home/data/2025_MIMICIV_processed/\") / f\"mimic4/task:{task}/train_admission_ids_seed_{seed}.txt\"))\n",
    "val_ids = np.array(read_txt(Path(\"/home/data/2025_MIMICIV_processed/\") / f\"mimic4/task:{task}/val_admission_ids_seed_{seed}.txt\"))\n",
    "test_ids = np.array(read_txt(Path(\"/home/data/2025_MIMICIV_processed/\") / f\"mimic4/task:{task}/test_admission_ids_seed_{seed}.txt\"))\n",
    "print(f\"Train: {len(train_ids)}, Val: {len(val_ids)}, Test: {len(test_ids)}\")\n",
    "\n",
    "train_dict = {k:v for k,v in all_hosp_adm_dict.items() if k in train_ids}\n",
    "print(len(train_dict))\n",
    "val_dict = {k:v for k,v in all_hosp_adm_dict.items() if k in val_ids}\n",
    "print(len(val_dict))\n",
    "test_dict = {k:v for k,v in all_hosp_adm_dict.items() if k in test_ids}\n",
    "print(len(test_dict))"
   ]
  },
  {
   "cell_type": "code",
   "execution_count": 56,
   "id": "548ca985",
   "metadata": {},
   "outputs": [
    {
     "data": {
      "text/plain": [
       "HOSP_ADM ID-23598978 (2601.0 min): mortality-None, readmission-True"
      ]
     },
     "execution_count": 56,
     "metadata": {},
     "output_type": "execute_result"
    }
   ],
   "source": [
    "train_dict['23598978']"
   ]
  },
  {
   "cell_type": "code",
   "execution_count": 69,
   "id": "24663fdc",
   "metadata": {},
   "outputs": [
    {
     "data": {
      "text/plain": [
       "(array([34727, 11291]), 46018)"
      ]
     },
     "execution_count": 69,
     "metadata": {},
     "output_type": "execute_result"
    }
   ],
   "source": [
    "np.bincount([test_dict[key].readmission for key in test_dict.keys()]), len(test_dict)"
   ]
  },
  {
   "cell_type": "code",
   "execution_count": 40,
   "id": "d749cbb9",
   "metadata": {},
   "outputs": [],
   "source": [
    "def check_code(hosp_adm) : \n",
    "    age = str(hosp_adm.age)\n",
    "    gender = hosp_adm.gender\n",
    "    ethnicity = hosp_adm.ethnicity\n",
    "    types = hosp_adm.trajectory[0]\n",
    "    codes = hosp_adm.trajectory[1]\n",
    "    # if there are no None, return True\n",
    "    if None in [age, gender,ethnicity, types, codes] :\n",
    "        return False\n",
    "    else :\n",
    "        return True\n",
    "\n",
    "def check_labvector(hosp_adm) :\n",
    "    labvectors= hosp_adm.labvectors\n",
    "    if labvectors is None :\n",
    "        return False\n",
    "    else :\n",
    "        return True\n",
    "    \n",
    "def check_discharge(hosp_adm) :\n",
    "    discharge = hosp_adm.discharge\n",
    "    if discharge is None :\n",
    "        return False\n",
    "    else :\n",
    "        return True\n",
    "    "
   ]
  },
  {
   "cell_type": "code",
   "execution_count": 41,
   "id": "54f34863",
   "metadata": {},
   "outputs": [
    {
     "name": "stdout",
     "output_type": "stream",
     "text": [
      "Train 161062 -> 161062, Val 23009 -> 23009, Test 46018 -> 46018\n"
     ]
    }
   ],
   "source": [
    "train_code_ids = [k for k,v in train_dict.items() if check_code(v)]\n",
    "val_code_ids = [k for k,v in val_dict.items() if check_code(v)]\n",
    "test_code_ids = [k for k,v in test_dict.items() if check_code(v)]\n",
    "print(f\"Train {len(train_ids)} -> {len(train_code_ids)}, Val {len(val_ids)} -> {len(val_code_ids)}, Test {len(test_ids)} -> {len(test_code_ids)}\")"
   ]
  },
  {
   "cell_type": "code",
   "execution_count": 42,
   "id": "40566f92",
   "metadata": {},
   "outputs": [
    {
     "name": "stdout",
     "output_type": "stream",
     "text": [
      "Train 161062 -> 128865, Val 23009 -> 18517, Test 46018 -> 36844\n"
     ]
    }
   ],
   "source": [
    "train_lab_ids = [k for k,v in train_dict.items() if check_labvector(v)]\n",
    "val_lab_ids = [k for k,v in val_dict.items() if check_labvector(v)]\n",
    "test_lab_ids = [k for k,v in test_dict.items() if check_labvector(v)]\n",
    "print(f\"Train {len(train_ids)} -> {len(train_lab_ids)}, Val {len(val_ids)} -> {len(val_lab_ids)}, Test {len(test_ids)} -> {len(test_lab_ids)}\")"
   ]
  },
  {
   "cell_type": "code",
   "execution_count": 43,
   "id": "e4d9acd3",
   "metadata": {},
   "outputs": [
    {
     "name": "stdout",
     "output_type": "stream",
     "text": [
      "Train 161062 -> 95070, Val 23009 -> 13607, Test 46018 -> 27334\n"
     ]
    }
   ],
   "source": [
    "train_discharge_ids = [k for k,v in train_dict.items() if check_discharge(v)]\n",
    "val_discharge_ids = [k for k,v in val_dict.items() if check_discharge(v)]\n",
    "test_discharge_ids = [k for k,v in test_dict.items() if check_discharge(v)]\n",
    "print(f\"Train {len(train_ids)} -> {len(train_discharge_ids)}, Val {len(val_ids)} -> {len(val_discharge_ids)}, Test {len(test_ids)} -> {len(test_discharge_ids)}\")"
   ]
  },
  {
   "cell_type": "code",
   "execution_count": 44,
   "id": "6bd59ce5",
   "metadata": {},
   "outputs": [],
   "source": [
    "ids_dict = {\n",
    "    'train_code_ids': train_code_ids,\n",
    "    'train_lab_ids' : train_lab_ids,\n",
    "    'train_discharge_ids' : train_discharge_ids,\n",
    "    'train_ids' : train_ids.tolist(),\n",
    "    'val_code_ids': val_code_ids,\n",
    "    'val_lab_ids' : val_lab_ids,\n",
    "    'val_discharge_ids' : val_discharge_ids,\n",
    "    'test_code_ids': test_code_ids,\n",
    "    'test_lab_ids' : test_lab_ids,\n",
    "    'test_discharge_ids' : test_discharge_ids\n",
    "}"
   ]
  },
  {
   "cell_type": "code",
   "execution_count": 45,
   "id": "fd9709c5",
   "metadata": {},
   "outputs": [],
   "source": [
    "with open(Path(f\"/home/data/2025_MIMICIV_processed/mimic4/task:{task}/admission_ids_seed_{seed}.pkl\"), \"wb\") as f:\n",
    "    pickle.dump(ids_dict, f)"
   ]
  },
  {
   "cell_type": "code",
   "execution_count": null,
   "id": "9781fe63",
   "metadata": {},
   "outputs": [],
   "source": []
  },
  {
   "cell_type": "code",
   "execution_count": 46,
   "id": "8dbe8444",
   "metadata": {},
   "outputs": [],
   "source": [
    "from pathlib import Path\n",
    "import pickle\n"
   ]
  },
  {
   "cell_type": "code",
   "execution_count": 47,
   "id": "14bebc55",
   "metadata": {},
   "outputs": [
    {
     "name": "stdout",
     "output_type": "stream",
     "text": [
      "Train: 89468, Valid: 12848, Test: 25553\n",
      "Train: 89642, Valid: 12723, Test: 25504\n",
      "Train: 89358, Valid: 12837, Test: 25674\n"
     ]
    }
   ],
   "source": [
    "for seed in range(2026, 2029) : \n",
    "    data = Path(f\"/home/data/2025_MIMICIV_processed/mimic4/task:readmission_15days/admission_ids_seed_{seed}.pkl\")\n",
    "    data = pickle.load(open(data, \"rb\"))\n",
    "\n",
    "    train_code_ids = data['train_code_ids']\n",
    "    train_lab_ids = data['train_lab_ids']\n",
    "    train_discharge_ids = data['train_discharge_ids']\n",
    "\n",
    "    valid_code_ids = data['val_code_ids']\n",
    "    valid_lab_ids = data['val_lab_ids']\n",
    "    valid_discharge_ids = data['val_discharge_ids']\n",
    "\n",
    "    test_code_ids = data['test_code_ids']\n",
    "    test_lab_ids = data['test_lab_ids']\n",
    "    test_discharge_ids = data['test_discharge_ids']\n",
    "\n",
    "    train_common_ids = list(set(train_code_ids) & set(train_lab_ids) & set(train_discharge_ids))\n",
    "    valid_common_ids = list(set(valid_code_ids) & set(valid_lab_ids) & set(valid_discharge_ids))\n",
    "    test_common_ids = list(set(test_code_ids) & set(test_lab_ids) & set(test_discharge_ids))\n",
    "\n",
    "    print(f\"Train: {len(train_common_ids)}, Valid: {len(valid_common_ids)}, Test: {len(test_common_ids)}\")\n",
    "\n",
    "    with open(Path(f\"/home/data/2025_MIMICIV_processed/mimic4/task:readmission_15days/admission_ids_seed_{seed}_INTERSECTION.pkl\"), \"wb\") as f:\n",
    "        pickle.dump({\n",
    "            'train_common_ids': train_common_ids,\n",
    "            'valid_common_ids': valid_common_ids,\n",
    "            'test_common_ids': test_common_ids\n",
    "        }, f)"
   ]
  },
  {
   "cell_type": "code",
   "execution_count": null,
   "id": "f863eb60",
   "metadata": {},
   "outputs": [],
   "source": []
  },
  {
   "cell_type": "code",
   "execution_count": null,
   "id": "fe2ec97f",
   "metadata": {},
   "outputs": [],
   "source": [
    "code_ids = train_code_ids + valid_code_ids + test_code_ids\n",
    "lab_ids = train_lab_ids + valid_lab_ids + test_lab_ids\n",
    "discharge_ids = train_discharge_ids + valid_discharge_ids + test_discharge_ids"
   ]
  },
  {
   "cell_type": "code",
   "execution_count": null,
   "id": "3af1c3b9",
   "metadata": {},
   "outputs": [],
   "source": [
    "total_ids = set(code_ids) | set(lab_ids) | set(discharge_ids)\n",
    "code_only_ids= set(code_ids) - set(lab_ids) - set(discharge_ids)\n",
    "lab_only_ids = set(lab_ids) - set(discharge_ids)\n",
    "discharge_only_ids = set(discharge_ids) - set(lab_ids)\n",
    "all_ids = set(code_ids) & set(lab_ids) & set(discharge_ids)\n",
    "print(f\"Total: {len(total_ids)}, Code: {len(code_ids)}, Lab: {len(lab_ids)}, Discharge: {len(discharge_ids)}\")\n",
    "print(f\"Code only: {len(code_only_ids)}, Lab only: {len(lab_only_ids)}, Discharge only: {len(discharge_only_ids)}\")\n",
    "print(f\"All: {len(all_ids)}\")"
   ]
  },
  {
   "cell_type": "code",
   "execution_count": null,
   "id": "1292bb64",
   "metadata": {},
   "outputs": [],
   "source": [
    "all_ratio = len(all_ids) / total_len\n",
    "total_len = len(total_ids)\n",
    "code_ratio = len(code_only_ids) / total_len\n",
    "lab_ratio = len(lab_only_ids) / total_len\n",
    "discharge_ratio = len(discharge_only_ids) / total_len\n",
    "print(f\"All : {len(all_ids)} {all_ratio:.2%}\")\n",
    "print(f\"Code only : {len(code_only_ids)} {code_ratio:.2%}\")\n",
    "print(f\"Lab only : {len(lab_only_ids)} {lab_ratio:.2%}\")\n",
    "print(f\"Discharge only : {len(discharge_only_ids)} {discharge_ratio:.2%}\")\n",
    "print(f\"Total : {total_len}\")"
   ]
  },
  {
   "cell_type": "code",
   "execution_count": null,
   "id": "d54b4b72",
   "metadata": {},
   "outputs": [],
   "source": []
  }
 ],
 "metadata": {
  "kernelspec": {
   "display_name": "mimic_venv (3.9.15)",
   "language": "python",
   "name": "python3"
  },
  "language_info": {
   "codemirror_mode": {
    "name": "ipython",
    "version": 3
   },
   "file_extension": ".py",
   "mimetype": "text/x-python",
   "name": "python",
   "nbconvert_exporter": "python",
   "pygments_lexer": "ipython3",
   "version": "3.9.15"
  }
 },
 "nbformat": 4,
 "nbformat_minor": 5
}
