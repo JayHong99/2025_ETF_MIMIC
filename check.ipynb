{
 "cells": [
  {
   "cell_type": "code",
   "execution_count": 2,
   "id": "88f99433",
   "metadata": {},
   "outputs": [],
   "source": [
    "from pathlib import Path\n",
    "import pandas as pd\n",
    "import numpy as np\n",
    "import pickle"
   ]
  },
  {
   "cell_type": "code",
   "execution_count": 19,
   "id": "3cea6909",
   "metadata": {},
   "outputs": [],
   "source": [
    "result_dir = Path('/home/jayhong7200/2025_MM_ETF_V2/MIMIC/Results/')\n",
    "\n",
    "tab_path = \"Linear_tabular/Seed_2027/readmission_15days_proj_128_batch_512/outputs/best_epoch.pkl\"\n",
    "tab = pickle.load(open(result_dir / tab_path, 'rb'))\n",
    "\n",
    "note_path = \"Linear_note/Seed_2027/readmission_15days_proj_128_batch_512/outputs/best_epoch.pkl\"\n",
    "note = pickle.load(open(result_dir / note_path, 'rb'))['test']['outputs']\n",
    "\n",
    "lab_path = \"Linear_lab/Seed_2027/readmission_15days_proj_128_batch_512/outputs/best_epoch.pkl\"\n",
    "lab = pickle.load(open(result_dir / lab_path, 'rb'))['test']['outputs']"
   ]
  },
  {
   "cell_type": "code",
   "execution_count": 25,
   "id": "d8f239ea",
   "metadata": {},
   "outputs": [
    {
     "data": {
      "text/plain": [
       "dict_keys(['labels', 'features', 'probs', 'loss'])"
      ]
     },
     "execution_count": 25,
     "metadata": {},
     "output_type": "execute_result"
    }
   ],
   "source": [
    "tab['test']['outputs']['20025975'].keys()"
   ]
  },
  {
   "cell_type": "code",
   "execution_count": 13,
   "id": "a0028d96",
   "metadata": {},
   "outputs": [],
   "source": [
    "tab_keys = list(tab.keys())\n",
    "lab_keys = list(lab.keys())\n",
    "note_keys = list(note.keys())\n",
    "included_admission_ids = np.array(\n",
    "    list(set(tab_keys) | set(lab_keys) | set(note_keys))\n",
    ")"
   ]
  },
  {
   "cell_type": "code",
   "execution_count": 18,
   "id": "a156d1eb",
   "metadata": {},
   "outputs": [
    {
     "name": "stdout",
     "output_type": "stream",
     "text": [
      "21102262\n",
      "28835314\n",
      "24325811\n"
     ]
    }
   ],
   "source": [
    "for key in tab_keys[:10] : \n",
    "    if note.get(key) is None : \n",
    "        print(key)"
   ]
  },
  {
   "cell_type": "code",
   "execution_count": 14,
   "id": "1c367d7f",
   "metadata": {},
   "outputs": [
    {
     "data": {
      "text/plain": [
       "46018"
      ]
     },
     "execution_count": 14,
     "metadata": {},
     "output_type": "execute_result"
    }
   ],
   "source": [
    "len(included_admission_ids)"
   ]
  }
 ],
 "metadata": {
  "kernelspec": {
   "display_name": "MIMIC Venv",
   "language": "python",
   "name": "mimic_venv"
  },
  "language_info": {
   "codemirror_mode": {
    "name": "ipython",
    "version": 3
   },
   "file_extension": ".py",
   "mimetype": "text/x-python",
   "name": "python",
   "nbconvert_exporter": "python",
   "pygments_lexer": "ipython3",
   "version": "3.9.15"
  }
 },
 "nbformat": 4,
 "nbformat_minor": 5
}
