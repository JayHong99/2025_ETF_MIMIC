{
 "cells": [
  {
   "cell_type": "code",
   "execution_count": 37,
   "id": "ea398552",
   "metadata": {},
   "outputs": [],
   "source": [
    "# import namespace\n",
    "from argparse import Namespace\n",
    "\n",
    "from src.utils.config import load_cfg\n",
    "from src.core.Recon_backbone import MMBackbone\n",
    "from src.dataset.tokenizer import MIMIC4Tokenizer\n",
    "import torch\n",
    "from collections import OrderedDict\n",
    "\n",
    "config = load_cfg(\"configs/multi_readmission_15days_BS_512_hidden_128.yaml\", args=Namespace())\n",
    "tokenizer= MIMIC4Tokenizer()"
   ]
  },
  {
   "cell_type": "code",
   "execution_count": 38,
   "id": "00993b9e",
   "metadata": {},
   "outputs": [
    {
     "name": "stdout",
     "output_type": "stream",
     "text": [
      "TransformerBlock added with hid-128, head-2, in_hid-256, drop-0.25\n",
      "TransformerBlock added with hid-128, head-2, in_hid-256, drop-0.25\n"
     ]
    },
    {
     "name": "stderr",
     "output_type": "stream",
     "text": [
      "/home/jayhong7200/2025_MIMIC_IV/mimic_venv/lib/python3.9/site-packages/huggingface_hub/file_download.py:945: FutureWarning: `resume_download` is deprecated and will be removed in version 1.0.0. Downloads always resume when possible. If you want to force a new download, use `force_download=True`.\n",
      "  warnings.warn(\n",
      "Some weights of the model checkpoint at prajjwal1/bert-tiny were not used when initializing BertModel: ['cls.predictions.transform.LayerNorm.weight', 'cls.seq_relationship.bias', 'cls.predictions.transform.dense.bias', 'cls.predictions.decoder.weight', 'cls.predictions.bias', 'cls.predictions.decoder.bias', 'cls.predictions.transform.dense.weight', 'cls.seq_relationship.weight', 'cls.predictions.transform.LayerNorm.bias']\n",
      "- This IS expected if you are initializing BertModel from the checkpoint of a model trained on another task or with another architecture (e.g. initializing a BertForSequenceClassification model from a BertForPreTraining model).\n",
      "- This IS NOT expected if you are initializing BertModel from the checkpoint of a model that you expect to be exactly identical (initializing a BertForSequenceClassification model from a BertForSequenceClassification model).\n"
     ]
    }
   ],
   "source": [
    "model = MMBackbone(config, tokenizer)"
   ]
  },
  {
   "cell_type": "code",
   "execution_count": 48,
   "id": "2b4e42d1",
   "metadata": {},
   "outputs": [],
   "source": [
    "pretrained_weights = OrderedDict()"
   ]
  },
  {
   "cell_type": "code",
   "execution_count": 67,
   "id": "0655c399",
   "metadata": {},
   "outputs": [],
   "source": [
    "tabular_path = 'Results/Linear_tabular/Seed_2026/readmission_15days_proj_128_batch_512/models/best_model.pth'\n",
    "tab_weight = torch.load(tabular_path, map_location='cpu')\n",
    "tab_weight = {k.replace('linear_backbone.encoder', 'tabular_encoder').replace('linear_backbone.projection_layer', 'tabular_projection_layer'): v for k, v in tab_weight.items()}\n",
    "pretrained_weights.update(tab_weight)"
   ]
  },
  {
   "cell_type": "code",
   "execution_count": 68,
   "id": "bc6ec1e4",
   "metadata": {},
   "outputs": [],
   "source": [
    "lab_path = 'Results/Linear_lab/Seed_2026/readmission_15days_proj_128_batch_512/models/best_model.pth'\n",
    "lab_weight = torch.load(lab_path, map_location='cpu')\n",
    "lab_weight = {k.replace('linear_backbone.encoder', 'lab_encoder').replace('linear_backbone.projection_layer', 'lab_projection_layer') : v for k, v in lab_weight.items()}\n",
    "pretrained_weights.update(lab_weight)"
   ]
  },
  {
   "cell_type": "code",
   "execution_count": 69,
   "id": "28522c2f",
   "metadata": {},
   "outputs": [],
   "source": [
    "note_path = 'Results/Linear_note/Seed_2026/readmission_15days_proj_128_batch_512/models/best_model.pth'\n",
    "note_weight = torch.load(note_path, map_location='cpu')\n",
    "note_weight = {k.replace('linear_backbone.encoder', 'text_encoder').replace('linear_backbone.projection_layer', 'text_projection_layer'): v for k, v in note_weight.items()}\n",
    "pretrained_weights.update(note_weight)"
   ]
  },
  {
   "cell_type": "code",
   "execution_count": null,
   "id": "2752e4b3",
   "metadata": {},
   "outputs": [
    {
     "data": {
      "text/plain": [
       "_IncompatibleKeys(missing_keys=['text_encoder.model.embeddings.position_ids', 'classifier.proto'], unexpected_keys=['linear_backbone.classifier.proto'])"
      ]
     },
     "execution_count": 77,
     "metadata": {},
     "output_type": "execute_result"
    },
    {
     "ename": "",
     "evalue": "",
     "output_type": "error",
     "traceback": [
      "\u001b[1;31mThe Kernel crashed while executing code in the current cell or a previous cell. \n",
      "\u001b[1;31mPlease review the code in the cell(s) to identify a possible cause of the failure. \n",
      "\u001b[1;31mClick <a href='https://aka.ms/vscodeJupyterKernelCrash'>here</a> for more info. \n",
      "\u001b[1;31mView Jupyter <a href='command:jupyter.viewOutput'>log</a> for further details."
     ]
    }
   ],
   "source": [
    "model.load_state_dict(pretrained_weights, strict=False)"
   ]
  }
 ],
 "metadata": {
  "kernelspec": {
   "display_name": "mimic_venv (3.9.15)",
   "language": "python",
   "name": "python3"
  },
  "language_info": {
   "codemirror_mode": {
    "name": "ipython",
    "version": 3
   },
   "file_extension": ".py",
   "mimetype": "text/x-python",
   "name": "python",
   "nbconvert_exporter": "python",
   "pygments_lexer": "ipython3",
   "version": "3.9.15"
  }
 },
 "nbformat": 4,
 "nbformat_minor": 5
}
